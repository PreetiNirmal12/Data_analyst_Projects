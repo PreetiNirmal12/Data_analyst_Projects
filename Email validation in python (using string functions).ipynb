{
 "cells": [
  {
   "cell_type": "code",
   "execution_count": null,
   "id": "bc780350",
   "metadata": {},
   "outputs": [],
   "source": [
    "email=input(\"Enter your Email : \")#g@g.in , wscube@gmail.com\n",
    "k,j,d=0,0,0\n",
    "if len(email)>=6:#1\n",
    "    if email[0].isalpha():#2\n",
    "         if (\"@\" in email) and (email.count(\"@\")==1):#3\n",
    "                if(email[-4]==\".\") ^ (email[-3]==\".\"):#4\n",
    "                    for i in email:\n",
    "                        if i==i.isspace():#5\n",
    "                            k=1\n",
    "                        elif i.isalpha():\n",
    "                            if i==i.upper():#5\n",
    "                                j=1\n",
    "                        elif i.isdigit():\n",
    "                            continue\n",
    "                        elif i==\"_\" or i==\".\" or i==\"@\":\n",
    "                            continue\n",
    "                        else:\n",
    "                            d=1\n",
    "                                \n",
    "                    if k==1 or j==1 or d==1:\n",
    "                         print(\"wrong Email 5\")\n",
    "                    else:\n",
    "                         print(\"Right Email\")\n",
    "                \n",
    "                else:\n",
    "                    print(\"wrong Email 4\")\n",
    "        \n",
    "         else:\n",
    "                print(\"wrong Email 3\")\n",
    "                \n",
    "    else:\n",
    "        print('wrong Email 2 ')\n",
    "else:\n",
    "    print(\"wrong Email 1\")\n",
    "    "
   ]
  },
  {
   "cell_type": "code",
   "execution_count": 9,
   "id": "dca6f10b",
   "metadata": {},
   "outputs": [
    {
     "name": "stdout",
     "output_type": "stream",
     "text": [
      "Enter your Email :ws.cube@gmail.com\n",
      "Right Email\n"
     ]
    }
   ],
   "source": [
    "#Email validation in python (using RegEx)\n",
    "#a-z wscube@gmail.com\n",
    "#0-9\n",
    "#. _time 1\n",
    "# @ time 1\n",
    "# . 2,3\n",
    "import re\n",
    "email_condition=\"^[a-z]+[\\._]?[a-z 0-9]+[@]\\w+[.]\\w{2,3}$\"\n",
    "user_email=input(\"Enter your Email :\")\n",
    "\n",
    "if re.search(email_condition,user_email):\n",
    "    print(\"Right Email\")\n",
    "else:\n",
    "    print(\"wrong Email\")"
   ]
  },
  {
   "cell_type": "code",
   "execution_count": null,
   "id": "a162ba5b",
   "metadata": {},
   "outputs": [],
   "source": []
  }
 ],
 "metadata": {
  "kernelspec": {
   "display_name": "Python 3 (ipykernel)",
   "language": "python",
   "name": "python3"
  },
  "language_info": {
   "codemirror_mode": {
    "name": "ipython",
    "version": 3
   },
   "file_extension": ".py",
   "mimetype": "text/x-python",
   "name": "python",
   "nbconvert_exporter": "python",
   "pygments_lexer": "ipython3",
   "version": "3.9.7"
  }
 },
 "nbformat": 4,
 "nbformat_minor": 5
}
