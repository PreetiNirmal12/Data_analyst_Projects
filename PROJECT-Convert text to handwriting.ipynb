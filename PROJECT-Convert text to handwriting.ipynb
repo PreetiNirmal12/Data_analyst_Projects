{
 "cells": [
  {
   "cell_type": "code",
   "execution_count": 1,
   "id": "3fe10c51",
   "metadata": {},
   "outputs": [],
   "source": [
    "import pywhatkit as pw"
   ]
  },
  {
   "cell_type": "code",
   "execution_count": 2,
   "id": "d78d81d4",
   "metadata": {},
   "outputs": [],
   "source": [
    "txt=\"\"\"Python is a high-level, interpreted, general-purpose programming language. Its design philosophy emphasizes code readability with the use of significant indentation. Python is dynamically-typed and garbage-collected. It supports multiple programming paradigms, including structured, object-oriented and functional programming. It is often described as a \"batteries included\" language due to its comprehensive standard library.\"\"\""
   ]
  },
  {
   "cell_type": "code",
   "execution_count": 3,
   "id": "841c969d",
   "metadata": {},
   "outputs": [
    {
     "name": "stdout",
     "output_type": "stream",
     "text": [
      " END \n"
     ]
    }
   ],
   "source": [
    "pw.text_to_handwriting(txt,\"demo1.png\",[0,0,138])\n",
    "print(\" END \")"
   ]
  },
  {
   "cell_type": "code",
   "execution_count": 4,
   "id": "0e9f274f",
   "metadata": {},
   "outputs": [
    {
     "name": "stdout",
     "output_type": "stream",
     "text": [
      " END \n"
     ]
    }
   ],
   "source": [
    "pw.text_to_handwriting(txt,\"demo12.png\",[255,0,0])\n",
    "print(\" END \")"
   ]
  },
  {
   "cell_type": "code",
   "execution_count": null,
   "id": "98b7aa8d",
   "metadata": {},
   "outputs": [],
   "source": []
  }
 ],
 "metadata": {
  "kernelspec": {
   "display_name": "Python 3 (ipykernel)",
   "language": "python",
   "name": "python3"
  },
  "language_info": {
   "codemirror_mode": {
    "name": "ipython",
    "version": 3
   },
   "file_extension": ".py",
   "mimetype": "text/x-python",
   "name": "python",
   "nbconvert_exporter": "python",
   "pygments_lexer": "ipython3",
   "version": "3.9.7"
  }
 },
 "nbformat": 4,
 "nbformat_minor": 5
}
